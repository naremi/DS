{
 "cells": [
  {
   "cell_type": "markdown",
   "metadata": {},
   "source": [
    "# ¿Jupyter y por qué?\n",
    "\n",
    "Es una aplicación web la cual te permite crear y compartir documentos con codigo fuente (python, java, Latex, n_mil lenguajes más, aprox 40 o más), ecuaciónes, visualizaciónes y texto.\n",
    "\n",
    "Se a puesto de moda en las areas de negocio y ciencia dada su versatilidad para compartir codigo y/o metodologias.\n",
    "\n",
    "\n",
    "En el notebook puedes escribir diversos formatos como\n",
    "\n",
    "__Codigo:__\n",
    "\n",
    "~~~ \n",
    "import pandas as pd\n",
    "pd.read_csv('docu.csv')\n",
    "~~~\n",
    "\n",
    "__Imagenes:__\n",
    "\n",
    "<img src=\"pqo.jpg\">\n",
    "\n",
    "__Ecuaciónes:__\n",
    "\n",
    "\n",
    "$x_1 = 10x_2 + f(y) -  \\frac{d^2 u}{dx^2} \\times \\int_{x_1}^{x_2} x^3$\n",
    "\n",
    "Para más tips de guapura de markdowns entra al siguiente link: (https://markdown.es/sintaxis-markdown/)\n",
    "\n"
   ]
  },
  {
   "cell_type": "code",
   "execution_count": 1,
   "metadata": {
    "ExecuteTime": {
     "end_time": "2018-01-13T14:21:32.583000Z",
     "start_time": "2018-01-13T14:21:29.670000Z"
    },
    "collapsed": true
   },
   "outputs": [],
   "source": [
    "import numpy as np\n",
    "import matplotlib.pyplot as plt\n",
    "%matplotlib inline"
   ]
  },
  {
   "cell_type": "code",
   "execution_count": 5,
   "metadata": {
    "ExecuteTime": {
     "end_time": "2018-01-13T14:25:49.383000Z",
     "start_time": "2018-01-13T14:25:49.249000Z"
    }
   },
   "outputs": [
    {
     "data": {
      "text/plain": [
       "[<matplotlib.lines.Line2D at 0x9270c88>]"
      ]
     },
     "execution_count": 5,
     "metadata": {},
     "output_type": "execute_result"
    },
    {
     "data": {
      "image/png": "[encoded data removed]",
      "text/plain": [
       "<matplotlib.figure.Figure at 0x9021748>"
      ]
     },
     "metadata": {},
     "output_type": "display_data"
    }
   ],
   "source": [
    "#Primera gráfica\n",
    "plt.plot(np.arange(10),np.random.rand(10))"
   ]
  },
  {
   "cell_type": "markdown",
   "metadata": {},
   "source": [
    "## Instalación\n",
    "\n",
    "Dado que jupyter es una especie de IDE (Integrated Development Environment) primero es necesario tener los lenguajes para utilizar el Notebook interactivo, en el se documenta todo el desarrollo de codigo.\n",
    "\n",
    "1. Instalar primero el python de su preferencia yo recomiendo python37"
   ]
  },
  {
   "cell_type": "code",
   "execution_count": null,
   "metadata": {
    "collapsed": true
   },
   "outputs": [],
   "source": []
  },
  {
   "cell_type": "code",
   "execution_count": null,
   "metadata": {
    "collapsed": true
   },
   "outputs": [],
   "source": []
  },
  {
   "cell_type": "markdown",
   "metadata": {},
   "source": [
    "## Git\n",
    "\n",
    "Git es un software de control de versiones.\n",
    "\n",
    "\n",
    "Basicamente te permite controlar las versiones del software a la hora de programar ya sea como hacker solitario, o en equipo :).\n",
    "\n",
    "Para evitar el _famoso codigo_bueno_version_final_ahora_si_finalisimo.py_"
   ]
  },
  {
   "cell_type": "markdown",
   "metadata": {},
   "source": [
    "## Primeros pasos\n",
    "Para iniciar creamos una cuenta en _www.github.com_ e instalamos git en nuestro computador.\n",
    "\n",
    "Una ves instalado abrimos una consola de git y ejecutamos el siguiente codigo:"
   ]
  },
  {
   "cell_type": "raw",
   "metadata": {},
   "source": [
    "git init"
   ]
  },
  {
   "cell_type": "raw",
   "metadata": {},
   "source": [
    "git clone https://github.com/serch86/DS.git"
   ]
  },
  {
   "cell_type": "code",
   "execution_count": null,
   "metadata": {
    "collapsed": true
   },
   "outputs": [],
   "source": []
  }
 ],
 "metadata": {
  "kernelspec": {
   "display_name": "Python 2",
   "language": "python",
   "name": "python2"
  },
  "language_info": {
   "codemirror_mode": {
    "name": "ipython",
    "version": 2
   },
   "file_extension": ".py",
   "mimetype": "text/x-python",
   "name": "python",
   "nbconvert_exporter": "python",
   "pygments_lexer": "ipython2",
   "version": "2.7.14"
  },
  "toc": {
   "nav_menu": {},
   "number_sections": true,
   "sideBar": true,
   "skip_h1_title": false,
   "toc_cell": false,
   "toc_position": {},
   "toc_section_display": "block",
   "toc_window_display": false
  },
  "varInspector": {
   "cols": {
    "lenName": 16,
    "lenType": 16,
    "lenVar": 40
   },
   "kernels_config": {
    "python": {
     "delete_cmd_postfix": "",
     "delete_cmd_prefix": "del ",
     "library": "var_list.py",
     "varRefreshCmd": "print(var_dic_list())"
    },
    "r": {
     "delete_cmd_postfix": ") ",
     "delete_cmd_prefix": "rm(",
     "library": "var_list.r",
     "varRefreshCmd": "cat(var_dic_list()) "
    }
   },
   "types_to_exclude": [
    "module",
    "function",
    "builtin_function_or_method",
    "instance",
    "_Feature"
   ],
   "window_display": false
  }
 },
 "nbformat": 4,
 "nbformat_minor": 2
}
